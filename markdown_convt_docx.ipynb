{
 "cells": [
  {
   "attachments": {},
   "cell_type": "markdown",
   "metadata": {},
   "source": [
    "* 읽은 문서 파일 내 테이블에 해당하는 부분을 마크다운으로 변경하는 기능 확인"
   ]
  },
  {
   "cell_type": "code",
   "execution_count": 4,
   "metadata": {},
   "outputs": [],
   "source": [
    "from docx import Document\n",
    "\n",
    "def read_tables_from_docx(file_path):\n",
    "    doc = Document(file_path)\n",
    "    tables_data = []\n",
    "    \n",
    "    for table in doc.tables:\n",
    "        table_content = []\n",
    "        for row in table.rows:\n",
    "            row_content = [cell.text.strip() for cell in row.cells]\n",
    "            table_content.append(row_content)\n",
    "        tables_data.append(table_content)\n",
    "    \n",
    "    return doc, tables_data\n"
   ]
  },
  {
   "cell_type": "code",
   "execution_count": 5,
   "metadata": {},
   "outputs": [],
   "source": [
    "# 표를 텍스트 형식으로 변환 (마크다운 형태)\n",
    "def convert_table_to_markdown(table):\n",
    "    if not table:\n",
    "        return \"\"\n",
    "    \n",
    "    markdown = []\n",
    "    headers = table[0]  # 첫 번째 행을 헤더로 사용\n",
    "    markdown.append(\"| \" + \" | \".join(headers) + \" |\")\n",
    "    markdown.append(\"| \" + \" | \".join([\"---\"] * len(headers)) + \" |\")\n",
    "    \n",
    "    for row in table[1:]:\n",
    "        markdown.append(\"| \" + \" | \".join(row) + \" |\")\n",
    "    \n",
    "    return \"\\n\".join(markdown)\n",
    "\n",
    "def replace_tables_with_markdown(original_doc, tables_data):\n",
    "    \"\"\"\n",
    "    기존 문서의 표 데이터를 마크다운으로 교체\n",
    "    \"\"\"\n",
    "    new_doc = Document()\n",
    "    for element in original_doc.element.body:\n",
    "        if element.tag.endswith('tbl'):  # 표 요소인지 확인\n",
    "            if tables_data:\n",
    "                # 표 데이터를 마크다운 형식으로 변환\n",
    "                table = tables_data.pop(0)\n",
    "                markdown = convert_table_to_markdown(table)\n",
    "                # 문서에 마크다운 추가\n",
    "                new_doc.add_paragraph(markdown)\n",
    "        else:\n",
    "            # 표가 아닌 기존 문서 내용을 그대로 복사\n",
    "            new_doc.add_paragraph(element.text)\n",
    "    return new_doc\n",
    "\n",
    "def save_docx_with_markdown(input_file, output_file):\n",
    "    \"\"\"\n",
    "    기존 문서의 내용을 유지하면서 표를 마크다운으로 변환하여 새 문서로 저장\n",
    "    \"\"\"\n",
    "    # 원본 문서 및 표 데이터 읽기\n",
    "    original_doc, tables_data = read_tables_from_docx(input_file)\n",
    "\n",
    "    # 표를 마크다운으로 교체한 문서 생성\n",
    "    updated_doc = replace_tables_with_markdown(original_doc, tables_data)\n",
    "\n",
    "    # 새 문서 저장\n",
    "    updated_doc.save(output_file)\n"
   ]
  },
  {
   "cell_type": "code",
   "execution_count": 6,
   "metadata": {},
   "outputs": [],
   "source": [
    "# 실행 코드\n",
    "input_file = \"GA4_schema.docx\"  # 입력 파일 경로\n",
    "output_file = \"GA4_schema_markdown.docx\"  # 출력 파일 경로\n",
    "\n",
    "save_docx_with_markdown(input_file, output_file)"
   ]
  },
  {
   "cell_type": "code",
   "execution_count": null,
   "metadata": {},
   "outputs": [],
   "source": []
  }
 ],
 "metadata": {
  "kernelspec": {
   "display_name": "llm_prototype",
   "language": "python",
   "name": "python3"
  },
  "language_info": {
   "codemirror_mode": {
    "name": "ipython",
    "version": 3
   },
   "file_extension": ".py",
   "mimetype": "text/x-python",
   "name": "python",
   "nbconvert_exporter": "python",
   "pygments_lexer": "ipython3",
   "version": "3.11.0"
  },
  "orig_nbformat": 4
 },
 "nbformat": 4,
 "nbformat_minor": 2
}
